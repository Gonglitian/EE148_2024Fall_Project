{
 "cells": [
  {
   "cell_type": "code",
   "execution_count": 1,
   "metadata": {},
   "outputs": [
    {
     "name": "stderr",
     "output_type": "stream",
     "text": [
      "curl: option -o: requires parameter\n",
      "curl: try 'curl --help' for more information\n"
     ]
    }
   ],
   "source": [
    "!curl -o deeplabv3_resnet50_coco.pth https://download.pytorch.org/models/deeplabv3_resnet50_coco-cd0a2569.pth\n",
    "!curl -o deeplabv3_resnet101_coco.pth https://download.pytorch.org/models/deeplabv3_resnet101_coco-586e9e4e.pth"
   ]
  },
  {
   "cell_type": "code",
   "execution_count": null,
   "metadata": {},
   "outputs": [],
   "source": []
  }
 ],
 "metadata": {
  "kernelspec": {
   "display_name": "base",
   "language": "python",
   "name": "python3"
  },
  "language_info": {
   "codemirror_mode": {
    "name": "ipython",
    "version": 3
   },
   "file_extension": ".py",
   "mimetype": "text/x-python",
   "name": "python",
   "nbconvert_exporter": "python",
   "pygments_lexer": "ipython3",
   "version": "3.10.10"
  }
 },
 "nbformat": 4,
 "nbformat_minor": 2
}
